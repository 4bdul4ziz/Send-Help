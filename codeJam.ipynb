{
 "cells": [
  {
   "cell_type": "code",
   "execution_count": 1,
   "metadata": {},
   "outputs": [
    {
     "ename": "ValueError",
     "evalue": "invalid literal for int() with base 10: ''",
     "output_type": "error",
     "traceback": [
      "\u001b[0;31m---------------------------------------------------------------------------\u001b[0m",
      "\u001b[0;31mValueError\u001b[0m                                Traceback (most recent call last)",
      "\u001b[1;32m/Users/abdul/Desktop/Programming/Send-Help/codeJam.ipynb Cell 1'\u001b[0m in \u001b[0;36m<module>\u001b[0;34m\u001b[0m\n\u001b[0;32m----> <a href='vscode-notebook-cell:/Users/abdul/Desktop/Programming/Send-Help/codeJam.ipynb#ch0000000?line=0'>1</a>\u001b[0m T \u001b[39m=\u001b[39m \u001b[39mint\u001b[39;49m(\u001b[39minput\u001b[39;49m())\n\u001b[1;32m      <a href='vscode-notebook-cell:/Users/abdul/Desktop/Programming/Send-Help/codeJam.ipynb#ch0000000?line=1'>2</a>\u001b[0m \u001b[39mfor\u001b[39;00m i \u001b[39min\u001b[39;00m \u001b[39mrange\u001b[39m(T):\n\u001b[1;32m      <a href='vscode-notebook-cell:/Users/abdul/Desktop/Programming/Send-Help/codeJam.ipynb#ch0000000?line=2'>3</a>\u001b[0m     \u001b[39mprint\u001b[39m(\u001b[39m'\u001b[39m\u001b[39mCase #\u001b[39m\u001b[39m'\u001b[39m\u001b[39m+\u001b[39m\u001b[39mstr\u001b[39m(i\u001b[39m+\u001b[39m\u001b[39m1\u001b[39m)\u001b[39m+\u001b[39m\u001b[39m'\u001b[39m\u001b[39m:\u001b[39m\u001b[39m'\u001b[39m)\n",
      "\u001b[0;31mValueError\u001b[0m: invalid literal for int() with base 10: ''"
     ]
    }
   ],
   "source": [
    "T = int(input())\n",
    "for i in range(T):\n",
    "    print('Case #'+str(i+1)+':')\n",
    "    R, C = map(int, input().split(' '))\n",
    "\n",
    "    for j in range(2*R+1):\n",
    "        s = ''\n",
    "        if j == 0:\n",
    "            s = '..'\n",
    "            for k in range(C-1):\n",
    "                s += '+-'\n",
    "            s += '+'\n",
    "            print(s)\n",
    "        elif j == 1:\n",
    "            s = '..'\n",
    "            for k in range(C-1):\n",
    "                s += '|.'\n",
    "            s += '|'\n",
    "            print(s)\n",
    "        elif j % 2 == 0:\n",
    "            for k in range(C):\n",
    "                s += '+-'\n",
    "            s += '+'\n",
    "            print(s)\n",
    "        else:\n",
    "            for k in range(C):\n",
    "                s += '|.'\n",
    "            s += '|'\n",
    "            print(s)\n"
   ]
  },
  {
   "cell_type": "code",
   "execution_count": null,
   "metadata": {},
   "outputs": [],
   "source": []
  }
 ],
 "metadata": {
  "interpreter": {
   "hash": "949777d72b0d2535278d3dc13498b2535136f6dfe0678499012e853ee9abcab1"
  },
  "kernelspec": {
   "display_name": "Python 3.10.2 64-bit",
   "language": "python",
   "name": "python3"
  },
  "language_info": {
   "codemirror_mode": {
    "name": "ipython",
    "version": 3
   },
   "file_extension": ".py",
   "mimetype": "text/x-python",
   "name": "python",
   "nbconvert_exporter": "python",
   "pygments_lexer": "ipython3",
   "version": "3.10.2"
  },
  "orig_nbformat": 4
 },
 "nbformat": 4,
 "nbformat_minor": 2
}
